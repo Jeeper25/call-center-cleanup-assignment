{
 "cells": [
  {
   "cell_type": "markdown",
   "id": "458bdb75",
   "metadata": {},
   "source": [
    "# Call Center Cleanup\n",
    "\n",
    "For this assignment, we will be working with call center data. You can start working on the assignment after the first lesson on Exploratory Data Analysis. Make sure to read the whole assignment before starting anything! As you code along in the Jupyter notebook, you are asked to make note of the results of your analysis. Do so by clicking on the results box and adding your notes beside each question.\n",
    "\n",
    "## Business Issue and Understanding\n",
    "\n",
    "You are working for a company that has two call centers: the North Call Center and the South Call Center. The company is looking to possibly hire five additional reps to enhance customer experience. Your task is to explore how efficient the current reps are in each branch to determine which branch would benefit from additional assistance.\n",
    "\n",
    "### How the Call Center Works\n",
    "\n",
    "Call center representatives are assigned queues. When calls are assigned to a queue, the call is assigned to the next person in line in the queue. After a call is assigned to a representative, the amount of time between assignment and the call starting is divided into busy minutes and not ready minutes. If the call is incoming and a customer is waiting on the phone for a rep, the time is split into three categories: busy minutes, not ready minutes, and incoming call wait time. Once the rep has the customer on the phone, there might be during call wait time, where the call is put on hold while the rep gets an answer for the customer.\n",
    "\n",
    "### Notes about the Dataset\n",
    "\n",
    "If you haven't worked in a call center before, these notes might help you throughout your analysis.\n",
    "\n",
    "* The call purpose is tagged for each call.\n",
    "* The time of the call is tagged in 1 hour blocks starting at 9:00 AM and ending at 5:00 PM.\n",
    "* Calls are tagged as incoming or outgoing.\n",
    "* Reps are assigned to queues. When the reps are working, they take calls in the order of their queue.\n",
    "* A call that is dropped due to technical error or missed by the center because they have reached maximum capacity is a lost call.\n",
    "* An abandoned call is when the customer hangs up because they have been waiting for too long.\n",
    "* Busy Minutes: the amount of time after a call comes in or needs to go out where the assigned rep is not available because they are busy with other customers.\n",
    "* Not Ready Minutes: the amount of time after a call comes in or needs to go out where the assigned rep is not available because they are not ready (for example, getting water).\n",
    "* Incoming Wait Time - amount of time after assigned rep is available to take the call customer waits for representative to pick up a call. This is tracked in seconds.\n",
    "* During Call Wait Time - amount of time during call that customer has to wait for representative\n",
    "\n",
    "## Getting Started\n",
    "\n",
    "You have two CSVs at your disposal, `NorthCallCenter.csv` and `SouthCallCenter.csv`. Import the appropriate libraries and create two dataframes, one called `north_df` and one called `south_df`."
   ]
  },
  {
   "cell_type": "code",
   "execution_count": 2,
   "id": "49aada97",
   "metadata": {},
   "outputs": [],
   "source": [
    "# Import the appropriate libraries\n",
    "import pandas as pd\n",
    "import seaborn as sns\n",
    "import numpy as np\n",
    "import matplotlib.pyplot as plt\n",
    "\n",
    "plt.style.use('ggplot')\n",
    "\n",
    "\n",
    "# Create two new dataframes\n",
    "north_df = pd.read_csv('NorthCallCenter.csv')\n",
    "south_df = pd.read_csv('SouthCallCenter.csv')"
   ]
  },
  {
   "cell_type": "markdown",
   "id": "a644531e",
   "metadata": {},
   "source": [
    "## Exploratory Data Analysis\n",
    "\n",
    "Time to do some EDA! In the process of learning more about the two datasets, make sure you answer the following questions:\n",
    "\n",
    "1. How many reps are in each branch?\n",
    "2. What is the average busy minutes, not ready minutes, incoming wait time, and during call wait time for each branch?\n",
    "3. What is the number of calls taken for each time block?"
   ]
  },
  {
   "cell_type": "code",
   "execution_count": 3,
   "id": "05a06a1f",
   "metadata": {
    "scrolled": true
   },
   "outputs": [
    {
     "name": "stdout",
     "output_type": "stream",
     "text": [
      "<class 'pandas.core.frame.DataFrame'>\n",
      "RangeIndex: 314 entries, 0 to 313\n",
      "Data columns (total 15 columns):\n",
      " #   Column                 Non-Null Count  Dtype  \n",
      "---  ------                 --------------  -----  \n",
      " 0   Unnamed: 0             314 non-null    int64  \n",
      " 1   Branch                 314 non-null    object \n",
      " 2   Call Purpose           314 non-null    object \n",
      " 3   Time Block             314 non-null    object \n",
      " 4   Incoming or Outgoing   314 non-null    object \n",
      " 5   Queue                  314 non-null    object \n",
      " 6   Rep ID                 314 non-null    object \n",
      " 7   Sale                   314 non-null    object \n",
      " 8   Lost Call              314 non-null    int64  \n",
      " 9   Abandoned              314 non-null    int64  \n",
      " 10  Busy Minutes           314 non-null    int64  \n",
      " 11  Not Ready Minutes      314 non-null    int64  \n",
      " 12  Incoming Wait Time     126 non-null    float64\n",
      " 13  During Call Wait Time  314 non-null    int64  \n",
      " 14  Calls                  314 non-null    int64  \n",
      "dtypes: float64(1), int64(7), object(7)\n",
      "memory usage: 36.9+ KB\n"
     ]
    },
    {
     "data": {
      "text/plain": [
       "(Index(['Unnamed: 0', 'Branch', 'Call Purpose', 'Time Block',\n",
       "        'Incoming or Outgoing', 'Queue', 'Rep ID', 'Sale', 'Lost Call',\n",
       "        'Abandoned', 'Busy Minutes', 'Not Ready Minutes', 'Incoming Wait Time',\n",
       "        'During Call Wait Time', 'Calls'],\n",
       "       dtype='object'),\n",
       " None)"
      ]
     },
     "execution_count": 3,
     "metadata": {},
     "output_type": "execute_result"
    }
   ],
   "source": [
    "# Put your EDA code here\n",
    "north_df.columns, south_df.info()"
   ]
  },
  {
   "cell_type": "code",
   "execution_count": 7,
   "id": "71f190e7",
   "metadata": {},
   "outputs": [
    {
     "data": {
      "text/plain": [
       "(9, 11)"
      ]
     },
     "execution_count": 7,
     "metadata": {},
     "output_type": "execute_result"
    }
   ],
   "source": [
    "#1. How many reps are in each branch?\n",
    "\n",
    "north_df[\"Rep ID\"].value_counts().count(), south_df[\"Rep ID\"].value_counts().count()"
   ]
  },
  {
   "cell_type": "code",
   "execution_count": 5,
   "id": "5c9941cf",
   "metadata": {},
   "outputs": [
    {
     "data": {
      "text/plain": [
       "(Busy Minutes             9.987755\n",
       " Not Ready Minutes        1.914286\n",
       " Incoming Wait Time       3.048780\n",
       " During Call Wait Time    2.967347\n",
       " dtype: float64,\n",
       " Busy Minutes             10.054140\n",
       " Not Ready Minutes         1.910828\n",
       " Incoming Wait Time        3.000000\n",
       " During Call Wait Time     3.076433\n",
       " dtype: float64)"
      ]
     },
     "execution_count": 5,
     "metadata": {},
     "output_type": "execute_result"
    }
   ],
   "source": [
    "#2. busy minutes, not ready minutes, incoming wait time, and during call wait time for each branch \n",
    "north_df[[\"Busy Minutes\", \"Not Ready Minutes\", \"Incoming Wait Time\", \"During Call Wait Time\"]].mean(), south_df[[\"Busy Minutes\", \"Not Ready Minutes\", \"Incoming Wait Time\", \"During Call Wait Time\"]].mean()"
   ]
  },
  {
   "cell_type": "code",
   "execution_count": 12,
   "id": "0d28b73e",
   "metadata": {},
   "outputs": [
    {
     "data": {
      "text/plain": [
       "(count          245\n",
       " unique           9\n",
       " top       12:00 PM\n",
       " freq            45\n",
       " Name: Time Block, dtype: object,\n",
       " count          314\n",
       " unique           9\n",
       " top       12:00 PM\n",
       " freq            75\n",
       " Name: Time Block, dtype: object)"
      ]
     },
     "execution_count": 12,
     "metadata": {},
     "output_type": "execute_result"
    }
   ],
   "source": [
    "#3. What is the number of calls taken for each time block?\n",
    "north_df[\"Time Block\"].describe(), south_df[\"Time Block\"].describe()"
   ]
  },
  {
   "cell_type": "code",
   "execution_count": 13,
   "id": "5e411b1b",
   "metadata": {
    "scrolled": true
   },
   "outputs": [
    {
     "data": {
      "text/plain": [
       "(Index(['Unnamed: 0', 'Branch', 'Call Purpose', 'Time Block',\n",
       "        'Incoming or Outgoing', 'Queue', 'Rep ID', 'Sale', 'Lost Call',\n",
       "        'Abandoned', 'Busy Minutes', 'Not Ready Minutes', 'Incoming Wait Time',\n",
       "        'During Call Wait Time', 'Calls'],\n",
       "       dtype='object'),\n",
       " Index(['Unnamed: 0', 'Branch', 'Call Purpose', 'Time Block',\n",
       "        'Incoming or Outgoing', 'Queue', 'Rep ID', 'Sale', 'Lost Call',\n",
       "        'Abandoned', 'Busy Minutes', 'Not Ready Minutes', 'Incoming Wait Time',\n",
       "        'During Call Wait Time', 'Calls'],\n",
       "       dtype='object'))"
      ]
     },
     "execution_count": 13,
     "metadata": {},
     "output_type": "execute_result"
    }
   ],
   "source": [
    "north_df.columns, south_df.columns"
   ]
  },
  {
   "cell_type": "code",
   "execution_count": 14,
   "id": "55b879af",
   "metadata": {},
   "outputs": [
    {
     "data": {
      "text/plain": [
       "(Brent     37\n",
       " Lilly     30\n",
       " Todd      29\n",
       " Duke      29\n",
       " Joe       26\n",
       " Cam       24\n",
       " Xander    24\n",
       " Andy      23\n",
       " Amanda    23\n",
       " Name: Rep ID, dtype: int64,\n",
       " Eric      35\n",
       " Randy     33\n",
       " Sandy     32\n",
       " Helga     31\n",
       " Kate      29\n",
       " George    29\n",
       " Karl      28\n",
       " Susan     26\n",
       " Josh      26\n",
       " Sharon    25\n",
       " Alice     20\n",
       " Name: Rep ID, dtype: int64)"
      ]
     },
     "execution_count": 14,
     "metadata": {},
     "output_type": "execute_result"
    }
   ],
   "source": [
    "north_df[\"Rep ID\"].value_counts(), south_df[\"Rep ID\"].value_counts()\n"
   ]
  },
  {
   "cell_type": "code",
   "execution_count": 15,
   "id": "851f2d0e",
   "metadata": {},
   "outputs": [
    {
     "data": {
      "text/plain": [
       "(12:00 PM    45\n",
       " 10:00 AM    43\n",
       " 2:00 PM     35\n",
       " 3:00 PM     30\n",
       " 4:00 PM     28\n",
       " 11:00 AM    25\n",
       " 1:00 PM     17\n",
       " 5:00 PM     17\n",
       " 9:00 AM      5\n",
       " Name: Time Block, dtype: int64,\n",
       " 12:00 PM    75\n",
       " 10:00 AM    56\n",
       " 3:00 PM     43\n",
       " 11:00 AM    31\n",
       " 2:00 PM     30\n",
       " 5:00 PM     26\n",
       " 4:00 PM     25\n",
       " 1:00 PM     23\n",
       " 9:00 AM      5\n",
       " Name: Time Block, dtype: int64)"
      ]
     },
     "execution_count": 15,
     "metadata": {},
     "output_type": "execute_result"
    }
   ],
   "source": [
    "north_df[\"Time Block\"].value_counts(), south_df[\"Time Block\"].value_counts()"
   ]
  },
  {
   "cell_type": "markdown",
   "id": "b5626c86",
   "metadata": {},
   "source": [
    "### EDA Results\n",
    "\n",
    "Make note of your results here!\n",
    "\n",
    "1. How many reps are in each branch?\n",
    "North: 9,South: 11\n",
    "2. What is the average busy minutes, not ready minutes, incoming wait time, and during call wait time for each branch?\n",
    "Busy Minutes: North 9.987755, South 10.054140\n",
    "Not Ready Minutes: North 1.914286, South 1.910828\n",
    "Incoming Wait Time: 3.048780, South 3.000000\n",
    "During Call Wait Time: North 2.967347, South 3.076433\n",
    "3. What is the number of calls taken for each time block?\n",
    "North: \n",
    "12:00 PM    45\n",
    " 10:00 AM    43\n",
    " 2:00 PM     35\n",
    " 3:00 PM     30\n",
    " 4:00 PM     28\n",
    " 11:00 AM    25\n",
    " 1:00 PM     17\n",
    " 5:00 PM     17\n",
    " 9:00 AM      5\n",
    "\n",
    "South:\n",
    " 12:00 PM    75\n",
    " 10:00 AM    56\n",
    " 3:00 PM     43\n",
    " 11:00 AM    31\n",
    " 2:00 PM     30\n",
    " 5:00 PM     26\n",
    " 4:00 PM     25\n",
    " 1:00 PM     23\n",
    " 9:00 AM      5"
   ]
  },
  {
   "cell_type": "markdown",
   "id": "ec92db6c",
   "metadata": {},
   "source": [
    "## Cleaning Data\n",
    "\n",
    "Now you need to clean up the datasets. When cleaning the datasets, you may find that there isn't dirty data to clean. That is okay! Some questions you need to answer about the data sets:\n",
    "\n",
    "1. Incoming wait time is null in many places. Do all of those places correspond to outgoing calls?\n",
    "2. In the North data set, there are two separate \"YES\" values for a sale. Why and how did you rectify the issue?\n",
    "3. Are there duplicates in the two data sets? If there are, how did you handle them?\n",
    "4. Is any of the data in the two data sets unnecessary? If yes, how did you handle it?"
   ]
  },
  {
   "cell_type": "code",
   "execution_count": 16,
   "id": "b50cfa8a",
   "metadata": {},
   "outputs": [
    {
     "name": "stdout",
     "output_type": "stream",
     "text": [
      "Number of duplicated rows:  (0, 15)\n",
      "Number of duplicated rows:  (0, 15)\n"
     ]
    },
    {
     "data": {
      "text/plain": [
       "(None,)"
      ]
     },
     "execution_count": 16,
     "metadata": {},
     "output_type": "execute_result"
    }
   ],
   "source": [
    "# Clean your data here\n",
    "duplicate_rows_df = north_df[north_df.duplicated()]\n",
    "print(\"Number of duplicated rows: \", duplicate_rows_df.shape), \n",
    "duplicate_rows_df = south_df[south_df.duplicated()]\n",
    "print(\"Number of duplicated rows: \", duplicate_rows_df.shape), "
   ]
  },
  {
   "cell_type": "code",
   "execution_count": 17,
   "id": "0988ef76",
   "metadata": {},
   "outputs": [
    {
     "name": "stdout",
     "output_type": "stream",
     "text": [
      "Unnamed: 0 - 0%\n",
      "Branch - 0%\n",
      "Call Purpose - 0%\n",
      "Time Block - 0%\n",
      "Incoming or Outgoing - 0%\n",
      "Queue - 0%\n",
      "Rep ID - 0%\n",
      "Sale - 0%\n",
      "Lost Call - 0%\n",
      "Abandoned - 0%\n",
      "Busy Minutes - 0%\n",
      "Not Ready Minutes - 0%\n",
      "Incoming Wait Time - 67%\n",
      "During Call Wait Time - 0%\n",
      "Calls - 0%\n",
      "Unnamed: 0 - 0%\n",
      "Branch - 0%\n",
      "Call Purpose - 0%\n",
      "Time Block - 0%\n",
      "Incoming or Outgoing - 0%\n",
      "Queue - 0%\n",
      "Rep ID - 0%\n",
      "Sale - 0%\n",
      "Lost Call - 0%\n",
      "Abandoned - 0%\n",
      "Busy Minutes - 0%\n",
      "Not Ready Minutes - 0%\n",
      "Incoming Wait Time - 60%\n",
      "During Call Wait Time - 0%\n",
      "Calls - 0%\n"
     ]
    }
   ],
   "source": [
    "#Missing Data?\n",
    "for col in north_df.columns:\n",
    "    pct_missing = np.mean(north_df[col].isnull())\n",
    "    print('{} - {}%'.format(col, round(pct_missing*100))), \n",
    "    \n",
    "for col in south_df.columns:\n",
    "    pct_missing = np.mean(south_df[col].isnull())\n",
    "    print('{} - {}%'.format(col, round(pct_missing*100)))"
   ]
  },
  {
   "cell_type": "code",
   "execution_count": 18,
   "id": "ddf0f28a",
   "metadata": {},
   "outputs": [
    {
     "data": {
      "text/plain": [
       "<AxesSubplot:>"
      ]
     },
     "execution_count": 18,
     "metadata": {},
     "output_type": "execute_result"
    },
    {
     "data": {
      "image/png": "[encoded data removed]",
      "text/plain": [
       "<Figure size 432x288 with 2 Axes>"
      ]
     },
     "metadata": {},
     "output_type": "display_data"
    }
   ],
   "source": [
    "cols = north_df.columns[:30]\n",
    "colors = ['#f79acf', '#f7f39a']\n",
    "sns.heatmap(north_df[cols].isnull(), cmap = sns.color_palette(colors))"
   ]
  },
  {
   "cell_type": "code",
   "execution_count": 19,
   "id": "a1cb8f54",
   "metadata": {},
   "outputs": [
    {
     "data": {
      "text/plain": [
       "<AxesSubplot:>"
      ]
     },
     "execution_count": 19,
     "metadata": {},
     "output_type": "execute_result"
    },
    {
     "data": {
      "image/png": "[encoded data removed]",
      "text/plain": [
       "<Figure size 432x288 with 2 Axes>"
      ]
     },
     "metadata": {},
     "output_type": "display_data"
    }
   ],
   "source": [
    "cols = south_df.columns[:30]\n",
    "colors = ['#fbb973', '#da9cf7']\n",
    "sns.heatmap(south_df[cols].isnull(), cmap = sns.color_palette(colors))"
   ]
  },
  {
   "cell_type": "code",
   "execution_count": 20,
   "id": "fa132821",
   "metadata": {},
   "outputs": [
    {
     "name": "stdout",
     "output_type": "stream",
     "text": [
      "created missing indicator for: Incoming Wait Time\n"
     ]
    },
    {
     "data": {
      "text/plain": [
       "<AxesSubplot:xlabel='index'>"
      ]
     },
     "execution_count": 20,
     "metadata": {},
     "output_type": "execute_result"
    },
    {
     "data": {
      "image/png": "[encoded data removed]",
      "text/plain": [
       "<Figure size 432x288 with 1 Axes>"
      ]
     },
     "metadata": {},
     "output_type": "display_data"
    }
   ],
   "source": [
    "for col in north_df.columns:\n",
    "    missing = north_df[col].isnull()\n",
    "    num_missing = np.sum(missing)\n",
    "    \n",
    "    if num_missing > 0:  \n",
    "        print('created missing indicator for: {}'.format(col))\n",
    "        north_df['{}_ismissing'.format(col)] = missing\n",
    "\n",
    "ismissing_cols = [col for col in north_df.columns if 'ismissing' in col]\n",
    "north_df['num_missing'] = north_df[ismissing_cols].sum(axis=1)\n",
    "\n",
    "north_df['num_missing'].value_counts().reset_index().sort_values(by='index').plot.bar(x='index', y='num_missing', color='pink')\n",
    "\n"
   ]
  },
  {
   "cell_type": "code",
   "execution_count": 19,
   "id": "7d3155c7",
   "metadata": {},
   "outputs": [
    {
     "ename": "SyntaxError",
     "evalue": "invalid syntax (<ipython-input-19-8f11145fc954>, line 1)",
     "output_type": "error",
     "traceback": [
      "\u001b[1;36m  File \u001b[1;32m\"<ipython-input-19-8f11145fc954>\"\u001b[1;36m, line \u001b[1;32m1\u001b[0m\n\u001b[1;33m    pandas.dataframe.iloc[]\u001b[0m\n\u001b[1;37m                          ^\u001b[0m\n\u001b[1;31mSyntaxError\u001b[0m\u001b[1;31m:\u001b[0m invalid syntax\n"
     ]
    }
   ],
   "source": [
    "#Creating subset as Aliya suggested.\n",
    "\n",
    "block.iloc[[0,1,3,6],[0,2]]\n",
    "\n",
    "\n",
    "\n",
    "pandas.dataframe.iloc[]"
   ]
  },
  {
   "cell_type": "code",
   "execution_count": 15,
   "id": "496758bc",
   "metadata": {},
   "outputs": [
    {
     "data": {
      "text/html": [
       "<div>\n",
       "<style scoped>\n",
       "    .dataframe tbody tr th:only-of-type {\n",
       "        vertical-align: middle;\n",
       "    }\n",
       "\n",
       "    .dataframe tbody tr th {\n",
       "        vertical-align: top;\n",
       "    }\n",
       "\n",
       "    .dataframe thead th {\n",
       "        text-align: right;\n",
       "    }\n",
       "</style>\n",
       "<table border=\"1\" class=\"dataframe\">\n",
       "  <thead>\n",
       "    <tr style=\"text-align: right;\">\n",
       "      <th></th>\n",
       "      <th>Sale</th>\n",
       "      <th>Sale</th>\n",
       "      <th>Sale</th>\n",
       "      <th>Sale</th>\n",
       "      <th>Sale</th>\n",
       "      <th>Sale</th>\n",
       "      <th>Sale</th>\n",
       "      <th>Sale</th>\n",
       "      <th>Sale</th>\n",
       "      <th>Sale</th>\n",
       "      <th>Sale</th>\n",
       "      <th>Sale</th>\n",
       "      <th>Sale</th>\n",
       "      <th>Sale</th>\n",
       "      <th>Sale</th>\n",
       "    </tr>\n",
       "  </thead>\n",
       "  <tbody>\n",
       "    <tr>\n",
       "      <th>NO</th>\n",
       "      <td>234</td>\n",
       "      <td>234</td>\n",
       "      <td>234</td>\n",
       "      <td>234</td>\n",
       "      <td>234</td>\n",
       "      <td>234</td>\n",
       "      <td>234</td>\n",
       "      <td>234</td>\n",
       "      <td>234</td>\n",
       "      <td>234</td>\n",
       "      <td>234</td>\n",
       "      <td>234</td>\n",
       "      <td>234</td>\n",
       "      <td>234</td>\n",
       "      <td>234</td>\n",
       "    </tr>\n",
       "    <tr>\n",
       "      <th>YES</th>\n",
       "      <td>11</td>\n",
       "      <td>11</td>\n",
       "      <td>11</td>\n",
       "      <td>11</td>\n",
       "      <td>11</td>\n",
       "      <td>11</td>\n",
       "      <td>11</td>\n",
       "      <td>11</td>\n",
       "      <td>11</td>\n",
       "      <td>11</td>\n",
       "      <td>11</td>\n",
       "      <td>11</td>\n",
       "      <td>11</td>\n",
       "      <td>11</td>\n",
       "      <td>11</td>\n",
       "    </tr>\n",
       "  </tbody>\n",
       "</table>\n",
       "</div>"
      ],
      "text/plain": [
       "     Sale  Sale  Sale  Sale  Sale  Sale  Sale  Sale  Sale  Sale  Sale  Sale  \\\n",
       "NO    234   234   234   234   234   234   234   234   234   234   234   234   \n",
       "YES    11    11    11    11    11    11    11    11    11    11    11    11   \n",
       "\n",
       "     Sale  Sale  Sale  \n",
       "NO    234   234   234  \n",
       "YES    11    11    11  "
      ]
     },
     "execution_count": 15,
     "metadata": {},
     "output_type": "execute_result"
    }
   ],
   "source": [
    "#Aliya's Note: Data Cleaning 2) How can we consolidate the \"Yes\" values so that we're not losing data? \n",
    "#That would allow for more accurate analysis. \n",
    "\n",
    "pd.concat([north_df['Sale'].value_counts() for column in north_df], axis = 1)"
   ]
  },
  {
   "cell_type": "code",
   "execution_count": 17,
   "id": "a6ff88a0",
   "metadata": {},
   "outputs": [
    {
     "data": {
      "text/plain": [
       "NO     234\n",
       "YES     11\n",
       "Name: Sale, dtype: int64"
      ]
     },
     "execution_count": 17,
     "metadata": {},
     "output_type": "execute_result"
    }
   ],
   "source": [
    "north_df['Sale'].value_counts()"
   ]
  },
  {
   "cell_type": "code",
   "execution_count": 14,
   "id": "ff06425d",
   "metadata": {},
   "outputs": [
    {
     "data": {
      "text/html": [
       "<div>\n",
       "<style scoped>\n",
       "    .dataframe tbody tr th:only-of-type {\n",
       "        vertical-align: middle;\n",
       "    }\n",
       "\n",
       "    .dataframe tbody tr th {\n",
       "        vertical-align: top;\n",
       "    }\n",
       "\n",
       "    .dataframe thead th {\n",
       "        text-align: right;\n",
       "    }\n",
       "</style>\n",
       "<table border=\"1\" class=\"dataframe\">\n",
       "  <thead>\n",
       "    <tr style=\"text-align: right;\">\n",
       "      <th></th>\n",
       "      <th>Sale</th>\n",
       "      <th>Sale</th>\n",
       "      <th>Sale</th>\n",
       "      <th>Sale</th>\n",
       "      <th>Sale</th>\n",
       "      <th>Sale</th>\n",
       "      <th>Sale</th>\n",
       "      <th>Sale</th>\n",
       "      <th>Sale</th>\n",
       "      <th>Sale</th>\n",
       "      <th>Sale</th>\n",
       "      <th>Sale</th>\n",
       "      <th>Sale</th>\n",
       "      <th>Sale</th>\n",
       "      <th>Sale</th>\n",
       "    </tr>\n",
       "  </thead>\n",
       "  <tbody>\n",
       "    <tr>\n",
       "      <th>NO</th>\n",
       "      <td>308</td>\n",
       "      <td>308</td>\n",
       "      <td>308</td>\n",
       "      <td>308</td>\n",
       "      <td>308</td>\n",
       "      <td>308</td>\n",
       "      <td>308</td>\n",
       "      <td>308</td>\n",
       "      <td>308</td>\n",
       "      <td>308</td>\n",
       "      <td>308</td>\n",
       "      <td>308</td>\n",
       "      <td>308</td>\n",
       "      <td>308</td>\n",
       "      <td>308</td>\n",
       "    </tr>\n",
       "    <tr>\n",
       "      <th>YES</th>\n",
       "      <td>6</td>\n",
       "      <td>6</td>\n",
       "      <td>6</td>\n",
       "      <td>6</td>\n",
       "      <td>6</td>\n",
       "      <td>6</td>\n",
       "      <td>6</td>\n",
       "      <td>6</td>\n",
       "      <td>6</td>\n",
       "      <td>6</td>\n",
       "      <td>6</td>\n",
       "      <td>6</td>\n",
       "      <td>6</td>\n",
       "      <td>6</td>\n",
       "      <td>6</td>\n",
       "    </tr>\n",
       "  </tbody>\n",
       "</table>\n",
       "</div>"
      ],
      "text/plain": [
       "     Sale  Sale  Sale  Sale  Sale  Sale  Sale  Sale  Sale  Sale  Sale  Sale  \\\n",
       "NO    308   308   308   308   308   308   308   308   308   308   308   308   \n",
       "YES     6     6     6     6     6     6     6     6     6     6     6     6   \n",
       "\n",
       "     Sale  Sale  Sale  \n",
       "NO    308   308   308  \n",
       "YES     6     6     6  "
      ]
     },
     "execution_count": 14,
     "metadata": {},
     "output_type": "execute_result"
    }
   ],
   "source": [
    "pd.concat([south_df['Sale'].value_counts() for column in south_df], axis = 1)"
   ]
  },
  {
   "cell_type": "code",
   "execution_count": 18,
   "id": "782caf4b",
   "metadata": {},
   "outputs": [
    {
     "data": {
      "text/plain": [
       "NO     308\n",
       "YES      6\n",
       "Name: Sale, dtype: int64"
      ]
     },
     "execution_count": 18,
     "metadata": {},
     "output_type": "execute_result"
    }
   ],
   "source": [
    "south_df['Sale'].value_counts()"
   ]
  },
  {
   "cell_type": "code",
   "execution_count": 17,
   "id": "c1d74c39",
   "metadata": {},
   "outputs": [
    {
     "data": {
      "text/html": [
       "<div>\n",
       "<style scoped>\n",
       "    .dataframe tbody tr th:only-of-type {\n",
       "        vertical-align: middle;\n",
       "    }\n",
       "\n",
       "    .dataframe tbody tr th {\n",
       "        vertical-align: top;\n",
       "    }\n",
       "\n",
       "    .dataframe thead th {\n",
       "        text-align: right;\n",
       "    }\n",
       "</style>\n",
       "<table border=\"1\" class=\"dataframe\">\n",
       "  <thead>\n",
       "    <tr style=\"text-align: right;\">\n",
       "      <th></th>\n",
       "      <th>Unnamed: 0</th>\n",
       "      <th>Branch</th>\n",
       "      <th>Call Purpose</th>\n",
       "      <th>Time Block</th>\n",
       "      <th>Incoming or Outgoing</th>\n",
       "      <th>Queue</th>\n",
       "      <th>Rep ID</th>\n",
       "      <th>Lost Call</th>\n",
       "      <th>Abandoned</th>\n",
       "      <th>Busy Minutes</th>\n",
       "      <th>Not Ready Minutes</th>\n",
       "      <th>Incoming Wait Time</th>\n",
       "      <th>During Call Wait Time</th>\n",
       "      <th>Calls</th>\n",
       "    </tr>\n",
       "  </thead>\n",
       "  <tbody>\n",
       "    <tr>\n",
       "      <th>0</th>\n",
       "      <td>0</td>\n",
       "      <td>North</td>\n",
       "      <td>Complaint</td>\n",
       "      <td>9:00 AM</td>\n",
       "      <td>Incoming</td>\n",
       "      <td>B</td>\n",
       "      <td>Brent</td>\n",
       "      <td>0</td>\n",
       "      <td>1</td>\n",
       "      <td>9</td>\n",
       "      <td>2</td>\n",
       "      <td>1.0</td>\n",
       "      <td>4</td>\n",
       "      <td>1</td>\n",
       "    </tr>\n",
       "    <tr>\n",
       "      <th>1</th>\n",
       "      <td>1</td>\n",
       "      <td>North</td>\n",
       "      <td>Sales Support</td>\n",
       "      <td>11:00 AM</td>\n",
       "      <td>Incoming</td>\n",
       "      <td>A</td>\n",
       "      <td>Cam</td>\n",
       "      <td>0</td>\n",
       "      <td>0</td>\n",
       "      <td>11</td>\n",
       "      <td>1</td>\n",
       "      <td>1.0</td>\n",
       "      <td>3</td>\n",
       "      <td>1</td>\n",
       "    </tr>\n",
       "    <tr>\n",
       "      <th>2</th>\n",
       "      <td>2</td>\n",
       "      <td>North</td>\n",
       "      <td>Sales Support</td>\n",
       "      <td>11:00 AM</td>\n",
       "      <td>Incoming</td>\n",
       "      <td>B</td>\n",
       "      <td>Todd</td>\n",
       "      <td>0</td>\n",
       "      <td>0</td>\n",
       "      <td>9</td>\n",
       "      <td>3</td>\n",
       "      <td>1.0</td>\n",
       "      <td>3</td>\n",
       "      <td>1</td>\n",
       "    </tr>\n",
       "    <tr>\n",
       "      <th>3</th>\n",
       "      <td>3</td>\n",
       "      <td>North</td>\n",
       "      <td>Sales Support</td>\n",
       "      <td>4:00 PM</td>\n",
       "      <td>Incoming</td>\n",
       "      <td>B</td>\n",
       "      <td>Brent</td>\n",
       "      <td>0</td>\n",
       "      <td>0</td>\n",
       "      <td>11</td>\n",
       "      <td>2</td>\n",
       "      <td>1.0</td>\n",
       "      <td>4</td>\n",
       "      <td>1</td>\n",
       "    </tr>\n",
       "    <tr>\n",
       "      <th>4</th>\n",
       "      <td>4</td>\n",
       "      <td>North</td>\n",
       "      <td>Product Support</td>\n",
       "      <td>12:00 PM</td>\n",
       "      <td>Incoming</td>\n",
       "      <td>B</td>\n",
       "      <td>Brent</td>\n",
       "      <td>0</td>\n",
       "      <td>0</td>\n",
       "      <td>8</td>\n",
       "      <td>2</td>\n",
       "      <td>1.0</td>\n",
       "      <td>4</td>\n",
       "      <td>1</td>\n",
       "    </tr>\n",
       "    <tr>\n",
       "      <th>...</th>\n",
       "      <td>...</td>\n",
       "      <td>...</td>\n",
       "      <td>...</td>\n",
       "      <td>...</td>\n",
       "      <td>...</td>\n",
       "      <td>...</td>\n",
       "      <td>...</td>\n",
       "      <td>...</td>\n",
       "      <td>...</td>\n",
       "      <td>...</td>\n",
       "      <td>...</td>\n",
       "      <td>...</td>\n",
       "      <td>...</td>\n",
       "      <td>...</td>\n",
       "    </tr>\n",
       "    <tr>\n",
       "      <th>240</th>\n",
       "      <td>240</td>\n",
       "      <td>North</td>\n",
       "      <td>Product Support</td>\n",
       "      <td>5:00 PM</td>\n",
       "      <td>Outgoing</td>\n",
       "      <td>B</td>\n",
       "      <td>Brent</td>\n",
       "      <td>0</td>\n",
       "      <td>0</td>\n",
       "      <td>10</td>\n",
       "      <td>2</td>\n",
       "      <td>NaN</td>\n",
       "      <td>3</td>\n",
       "      <td>1</td>\n",
       "    </tr>\n",
       "    <tr>\n",
       "      <th>241</th>\n",
       "      <td>241</td>\n",
       "      <td>North</td>\n",
       "      <td>Product Support</td>\n",
       "      <td>5:00 PM</td>\n",
       "      <td>Outgoing</td>\n",
       "      <td>A</td>\n",
       "      <td>Joe</td>\n",
       "      <td>0</td>\n",
       "      <td>0</td>\n",
       "      <td>8</td>\n",
       "      <td>3</td>\n",
       "      <td>NaN</td>\n",
       "      <td>2</td>\n",
       "      <td>1</td>\n",
       "    </tr>\n",
       "    <tr>\n",
       "      <th>242</th>\n",
       "      <td>242</td>\n",
       "      <td>North</td>\n",
       "      <td>Product Support</td>\n",
       "      <td>5:00 PM</td>\n",
       "      <td>Outgoing</td>\n",
       "      <td>A</td>\n",
       "      <td>Amanda</td>\n",
       "      <td>0</td>\n",
       "      <td>0</td>\n",
       "      <td>12</td>\n",
       "      <td>1</td>\n",
       "      <td>NaN</td>\n",
       "      <td>2</td>\n",
       "      <td>1</td>\n",
       "    </tr>\n",
       "    <tr>\n",
       "      <th>243</th>\n",
       "      <td>243</td>\n",
       "      <td>North</td>\n",
       "      <td>Product Support</td>\n",
       "      <td>5:00 PM</td>\n",
       "      <td>Outgoing</td>\n",
       "      <td>A</td>\n",
       "      <td>Cam</td>\n",
       "      <td>0</td>\n",
       "      <td>0</td>\n",
       "      <td>11</td>\n",
       "      <td>2</td>\n",
       "      <td>NaN</td>\n",
       "      <td>2</td>\n",
       "      <td>1</td>\n",
       "    </tr>\n",
       "    <tr>\n",
       "      <th>244</th>\n",
       "      <td>244</td>\n",
       "      <td>North</td>\n",
       "      <td>Product Support</td>\n",
       "      <td>5:00 PM</td>\n",
       "      <td>Outgoing</td>\n",
       "      <td>B</td>\n",
       "      <td>Xander</td>\n",
       "      <td>0</td>\n",
       "      <td>0</td>\n",
       "      <td>8</td>\n",
       "      <td>1</td>\n",
       "      <td>NaN</td>\n",
       "      <td>4</td>\n",
       "      <td>1</td>\n",
       "    </tr>\n",
       "  </tbody>\n",
       "</table>\n",
       "<p>245 rows × 14 columns</p>\n",
       "</div>"
      ],
      "text/plain": [
       "     Unnamed: 0 Branch     Call Purpose Time Block Incoming or Outgoing Queue  \\\n",
       "0             0  North        Complaint    9:00 AM             Incoming     B   \n",
       "1             1  North    Sales Support   11:00 AM             Incoming     A   \n",
       "2             2  North    Sales Support   11:00 AM             Incoming     B   \n",
       "3             3  North    Sales Support    4:00 PM             Incoming     B   \n",
       "4             4  North  Product Support   12:00 PM             Incoming     B   \n",
       "..          ...    ...              ...        ...                  ...   ...   \n",
       "240         240  North  Product Support    5:00 PM             Outgoing     B   \n",
       "241         241  North  Product Support    5:00 PM             Outgoing     A   \n",
       "242         242  North  Product Support    5:00 PM             Outgoing     A   \n",
       "243         243  North  Product Support    5:00 PM             Outgoing     A   \n",
       "244         244  North  Product Support    5:00 PM             Outgoing     B   \n",
       "\n",
       "     Rep ID  Lost Call  Abandoned  Busy Minutes  Not Ready Minutes  \\\n",
       "0     Brent          0          1             9                  2   \n",
       "1       Cam          0          0            11                  1   \n",
       "2      Todd          0          0             9                  3   \n",
       "3     Brent          0          0            11                  2   \n",
       "4     Brent          0          0             8                  2   \n",
       "..      ...        ...        ...           ...                ...   \n",
       "240   Brent          0          0            10                  2   \n",
       "241     Joe          0          0             8                  3   \n",
       "242  Amanda          0          0            12                  1   \n",
       "243     Cam          0          0            11                  2   \n",
       "244  Xander          0          0             8                  1   \n",
       "\n",
       "     Incoming Wait Time  During Call Wait Time  Calls  \n",
       "0                   1.0                      4      1  \n",
       "1                   1.0                      3      1  \n",
       "2                   1.0                      3      1  \n",
       "3                   1.0                      4      1  \n",
       "4                   1.0                      4      1  \n",
       "..                  ...                    ...    ...  \n",
       "240                 NaN                      3      1  \n",
       "241                 NaN                      2      1  \n",
       "242                 NaN                      2      1  \n",
       "243                 NaN                      2      1  \n",
       "244                 NaN                      4      1  \n",
       "\n",
       "[245 rows x 14 columns]"
      ]
     },
     "execution_count": 17,
     "metadata": {},
     "output_type": "execute_result"
    }
   ],
   "source": [
    "north_df.drop_duplicates()"
   ]
  },
  {
   "cell_type": "code",
   "execution_count": 16,
   "id": "adeff96f",
   "metadata": {},
   "outputs": [
    {
     "data": {
      "text/html": [
       "<div>\n",
       "<style scoped>\n",
       "    .dataframe tbody tr th:only-of-type {\n",
       "        vertical-align: middle;\n",
       "    }\n",
       "\n",
       "    .dataframe tbody tr th {\n",
       "        vertical-align: top;\n",
       "    }\n",
       "\n",
       "    .dataframe thead th {\n",
       "        text-align: right;\n",
       "    }\n",
       "</style>\n",
       "<table border=\"1\" class=\"dataframe\">\n",
       "  <thead>\n",
       "    <tr style=\"text-align: right;\">\n",
       "      <th></th>\n",
       "      <th>Unnamed: 0</th>\n",
       "      <th>Branch</th>\n",
       "      <th>Call Purpose</th>\n",
       "      <th>Time Block</th>\n",
       "      <th>Incoming or Outgoing</th>\n",
       "      <th>Queue</th>\n",
       "      <th>Rep ID</th>\n",
       "      <th>Sale</th>\n",
       "      <th>Lost Call</th>\n",
       "      <th>Abandoned</th>\n",
       "      <th>Busy Minutes</th>\n",
       "      <th>Not Ready Minutes</th>\n",
       "      <th>Incoming Wait Time</th>\n",
       "      <th>During Call Wait Time</th>\n",
       "      <th>Calls</th>\n",
       "    </tr>\n",
       "  </thead>\n",
       "  <tbody>\n",
       "    <tr>\n",
       "      <th>0</th>\n",
       "      <td>0</td>\n",
       "      <td>South</td>\n",
       "      <td>Sales Support</td>\n",
       "      <td>10:00 AM</td>\n",
       "      <td>Incoming</td>\n",
       "      <td>D</td>\n",
       "      <td>Kate</td>\n",
       "      <td>NO</td>\n",
       "      <td>0</td>\n",
       "      <td>0</td>\n",
       "      <td>9</td>\n",
       "      <td>1</td>\n",
       "      <td>1.0</td>\n",
       "      <td>2</td>\n",
       "      <td>1</td>\n",
       "    </tr>\n",
       "    <tr>\n",
       "      <th>1</th>\n",
       "      <td>1</td>\n",
       "      <td>South</td>\n",
       "      <td>Sales Support</td>\n",
       "      <td>10:00 AM</td>\n",
       "      <td>Incoming</td>\n",
       "      <td>C</td>\n",
       "      <td>Eric</td>\n",
       "      <td>NO</td>\n",
       "      <td>0</td>\n",
       "      <td>0</td>\n",
       "      <td>8</td>\n",
       "      <td>2</td>\n",
       "      <td>1.0</td>\n",
       "      <td>4</td>\n",
       "      <td>1</td>\n",
       "    </tr>\n",
       "    <tr>\n",
       "      <th>2</th>\n",
       "      <td>2</td>\n",
       "      <td>South</td>\n",
       "      <td>Sales Support</td>\n",
       "      <td>10:00 AM</td>\n",
       "      <td>Incoming</td>\n",
       "      <td>C</td>\n",
       "      <td>Susan</td>\n",
       "      <td>NO</td>\n",
       "      <td>0</td>\n",
       "      <td>0</td>\n",
       "      <td>10</td>\n",
       "      <td>2</td>\n",
       "      <td>1.0</td>\n",
       "      <td>4</td>\n",
       "      <td>1</td>\n",
       "    </tr>\n",
       "    <tr>\n",
       "      <th>3</th>\n",
       "      <td>3</td>\n",
       "      <td>South</td>\n",
       "      <td>Sales Support</td>\n",
       "      <td>10:00 AM</td>\n",
       "      <td>Incoming</td>\n",
       "      <td>C</td>\n",
       "      <td>Alice</td>\n",
       "      <td>NO</td>\n",
       "      <td>0</td>\n",
       "      <td>0</td>\n",
       "      <td>12</td>\n",
       "      <td>1</td>\n",
       "      <td>1.0</td>\n",
       "      <td>3</td>\n",
       "      <td>1</td>\n",
       "    </tr>\n",
       "    <tr>\n",
       "      <th>4</th>\n",
       "      <td>4</td>\n",
       "      <td>South</td>\n",
       "      <td>Sales Support</td>\n",
       "      <td>12:00 PM</td>\n",
       "      <td>Incoming</td>\n",
       "      <td>C</td>\n",
       "      <td>Sandy</td>\n",
       "      <td>NO</td>\n",
       "      <td>0</td>\n",
       "      <td>0</td>\n",
       "      <td>8</td>\n",
       "      <td>3</td>\n",
       "      <td>1.0</td>\n",
       "      <td>3</td>\n",
       "      <td>1</td>\n",
       "    </tr>\n",
       "    <tr>\n",
       "      <th>...</th>\n",
       "      <td>...</td>\n",
       "      <td>...</td>\n",
       "      <td>...</td>\n",
       "      <td>...</td>\n",
       "      <td>...</td>\n",
       "      <td>...</td>\n",
       "      <td>...</td>\n",
       "      <td>...</td>\n",
       "      <td>...</td>\n",
       "      <td>...</td>\n",
       "      <td>...</td>\n",
       "      <td>...</td>\n",
       "      <td>...</td>\n",
       "      <td>...</td>\n",
       "      <td>...</td>\n",
       "    </tr>\n",
       "    <tr>\n",
       "      <th>309</th>\n",
       "      <td>309</td>\n",
       "      <td>South</td>\n",
       "      <td>Product Support</td>\n",
       "      <td>5:00 PM</td>\n",
       "      <td>Outgoing</td>\n",
       "      <td>D</td>\n",
       "      <td>Helga</td>\n",
       "      <td>NO</td>\n",
       "      <td>0</td>\n",
       "      <td>0</td>\n",
       "      <td>10</td>\n",
       "      <td>3</td>\n",
       "      <td>NaN</td>\n",
       "      <td>4</td>\n",
       "      <td>1</td>\n",
       "    </tr>\n",
       "    <tr>\n",
       "      <th>310</th>\n",
       "      <td>310</td>\n",
       "      <td>South</td>\n",
       "      <td>Product Support</td>\n",
       "      <td>5:00 PM</td>\n",
       "      <td>Outgoing</td>\n",
       "      <td>C</td>\n",
       "      <td>Susan</td>\n",
       "      <td>NO</td>\n",
       "      <td>0</td>\n",
       "      <td>0</td>\n",
       "      <td>12</td>\n",
       "      <td>3</td>\n",
       "      <td>NaN</td>\n",
       "      <td>4</td>\n",
       "      <td>1</td>\n",
       "    </tr>\n",
       "    <tr>\n",
       "      <th>311</th>\n",
       "      <td>311</td>\n",
       "      <td>South</td>\n",
       "      <td>Product Support</td>\n",
       "      <td>5:00 PM</td>\n",
       "      <td>Outgoing</td>\n",
       "      <td>C</td>\n",
       "      <td>Sandy</td>\n",
       "      <td>NO</td>\n",
       "      <td>0</td>\n",
       "      <td>0</td>\n",
       "      <td>9</td>\n",
       "      <td>3</td>\n",
       "      <td>NaN</td>\n",
       "      <td>4</td>\n",
       "      <td>1</td>\n",
       "    </tr>\n",
       "    <tr>\n",
       "      <th>312</th>\n",
       "      <td>312</td>\n",
       "      <td>South</td>\n",
       "      <td>Product Support</td>\n",
       "      <td>5:00 PM</td>\n",
       "      <td>Outgoing</td>\n",
       "      <td>C</td>\n",
       "      <td>Eric</td>\n",
       "      <td>NO</td>\n",
       "      <td>0</td>\n",
       "      <td>0</td>\n",
       "      <td>10</td>\n",
       "      <td>1</td>\n",
       "      <td>NaN</td>\n",
       "      <td>2</td>\n",
       "      <td>1</td>\n",
       "    </tr>\n",
       "    <tr>\n",
       "      <th>313</th>\n",
       "      <td>313</td>\n",
       "      <td>South</td>\n",
       "      <td>Product Support</td>\n",
       "      <td>5:00 PM</td>\n",
       "      <td>Outgoing</td>\n",
       "      <td>D</td>\n",
       "      <td>George</td>\n",
       "      <td>NO</td>\n",
       "      <td>0</td>\n",
       "      <td>0</td>\n",
       "      <td>10</td>\n",
       "      <td>2</td>\n",
       "      <td>NaN</td>\n",
       "      <td>3</td>\n",
       "      <td>1</td>\n",
       "    </tr>\n",
       "  </tbody>\n",
       "</table>\n",
       "<p>314 rows × 15 columns</p>\n",
       "</div>"
      ],
      "text/plain": [
       "     Unnamed: 0 Branch     Call Purpose Time Block Incoming or Outgoing Queue  \\\n",
       "0             0  South    Sales Support   10:00 AM             Incoming     D   \n",
       "1             1  South    Sales Support   10:00 AM             Incoming     C   \n",
       "2             2  South    Sales Support   10:00 AM             Incoming     C   \n",
       "3             3  South    Sales Support   10:00 AM             Incoming     C   \n",
       "4             4  South    Sales Support   12:00 PM             Incoming     C   \n",
       "..          ...    ...              ...        ...                  ...   ...   \n",
       "309         309  South  Product Support    5:00 PM             Outgoing     D   \n",
       "310         310  South  Product Support    5:00 PM             Outgoing     C   \n",
       "311         311  South  Product Support    5:00 PM             Outgoing     C   \n",
       "312         312  South  Product Support    5:00 PM             Outgoing     C   \n",
       "313         313  South  Product Support    5:00 PM             Outgoing     D   \n",
       "\n",
       "     Rep ID Sale  Lost Call  Abandoned  Busy Minutes  Not Ready Minutes  \\\n",
       "0      Kate   NO          0          0             9                  1   \n",
       "1      Eric   NO          0          0             8                  2   \n",
       "2     Susan   NO          0          0            10                  2   \n",
       "3     Alice   NO          0          0            12                  1   \n",
       "4     Sandy   NO          0          0             8                  3   \n",
       "..      ...  ...        ...        ...           ...                ...   \n",
       "309   Helga   NO          0          0            10                  3   \n",
       "310   Susan   NO          0          0            12                  3   \n",
       "311   Sandy   NO          0          0             9                  3   \n",
       "312    Eric   NO          0          0            10                  1   \n",
       "313  George   NO          0          0            10                  2   \n",
       "\n",
       "     Incoming Wait Time  During Call Wait Time  Calls  \n",
       "0                   1.0                      2      1  \n",
       "1                   1.0                      4      1  \n",
       "2                   1.0                      4      1  \n",
       "3                   1.0                      3      1  \n",
       "4                   1.0                      3      1  \n",
       "..                  ...                    ...    ...  \n",
       "309                 NaN                      4      1  \n",
       "310                 NaN                      4      1  \n",
       "311                 NaN                      4      1  \n",
       "312                 NaN                      2      1  \n",
       "313                 NaN                      3      1  \n",
       "\n",
       "[314 rows x 15 columns]"
      ]
     },
     "execution_count": 16,
     "metadata": {},
     "output_type": "execute_result"
    }
   ],
   "source": [
    "south_df.drop_duplicates()"
   ]
  },
  {
   "cell_type": "code",
   "execution_count": 30,
   "id": "996ef681",
   "metadata": {},
   "outputs": [],
   "source": [
    "#Aliya's note, hoping I've done this correctly:\n",
    "#\"Create a subset of the data frame with the columns I need and assign that to a new object. \n",
    "#I prefer to keep the original data frame intact in case I ever need to double-check the information.\"\"\n",
    "\n",
    "north_df1 = ['Unnamed', 'Branch', 'Call Purpose' ,'Time Block', 'Incoming or Outgoing', 'Rep ID', 'Sale', 'Lost Call',\n",
    "            'Abandoned', 'Busy Minutes', 'Not Ready Minutes', 'Incoming Wait Time', 'During Call Wait Time', 'Calls']\n",
    "\n",
    "north_1=pd.DataFrame([north_df1])\n",
    "\n",
    "\n",
    "    "
   ]
  },
  {
   "cell_type": "code",
   "execution_count": 31,
   "id": "4b6564a3",
   "metadata": {},
   "outputs": [],
   "source": [
    "south_df1 = ['Unnamed', 'Branch', 'Call Purpose' ,'Time Block', 'Incoming or Outgoing', 'Rep ID', 'Sale', 'Lost Call',\n",
    "            'Abandoned', 'Busy Minutes', 'Not Ready Minutes', 'Incoming Wait Time', 'During Call Wait Time', 'Calls']\n",
    "\n",
    "south_1=pd.DataFrame([south_df1])\n"
   ]
  },
  {
   "cell_type": "markdown",
   "id": "79e80da0",
   "metadata": {},
   "source": [
    "### Cleaning Data Results\n",
    "\n",
    "Make note of your results!\n",
    "\n",
    "1. Incoming wait time is null in many places. Do all of those places correspond to outgoing calls?\n",
    "2. In the North data set, there are two separate \"YES\" values for a sale. Why and how did you rectify the issue?\n",
    "3. Are there duplicates in the two data sets? If there are, how did you handle them?\n",
    "4. Is any of the data in the two data sets unnecessary? If yes, how did you handle it?"
   ]
  },
  {
   "cell_type": "code",
   "execution_count": 32,
   "id": "27f0f58e",
   "metadata": {},
   "outputs": [],
   "source": [
    "#1: No.\n",
    "#2: I believe there are 2 different values based on call purpose, either product support or sales support. \n",
    "#I concatenated the data based on the 'Yes' value.\n",
    "#3: No duplicates found\n",
    "#Number of duplicated rows:  (0, 15)\n",
    "#Number of duplicated rows:  (0, 15)\n",
    "#4: Per Aliya's advice, I created a subset of the data as it's own data frame \n",
    "#without Queue."
   ]
  },
  {
   "cell_type": "markdown",
   "id": "4820fb7d",
   "metadata": {},
   "source": [
    "## Data Manipulation\n",
    "\n",
    "Before you begin answering any questions, combine the two datasets together to create a third dataframe called `df`. You can use this third dataframe to compare the two call centers to company-wide trends.\n",
    "\n",
    "1. Group by Rep ID and sum the resulting structure. Sort by calls to determine which rep in each branch has the highest number of calls.\n",
    "2. The average call abandonment rate is a KPI when it comes to determining call center efficiency. As you may recall, abandoned calls are calls where the customer hangs up due to long call times. What is the average call abandonment rate for each branch and the whole company? Do any of these fall out of the optimal range of 2-5%?\n",
    "3. Service level is another KPI when it comes to measuring call center efficiency. Service level is the percentage of calls answered within a specific number of seconds. In the case of your employer, their ideal time frame is 2 seconds. What is the percentage of calls answered within 2 seconds for each branch and the entire company?\n",
    "4. For each branch and the entire company, what is the average speed of answer?"
   ]
  },
  {
   "cell_type": "code",
   "execution_count": 37,
   "id": "ea8fe600",
   "metadata": {},
   "outputs": [],
   "source": [
    "# Manipulate data here\n",
    "Combineddf = north_df.append(south_df, ignore_index=True)"
   ]
  },
  {
   "cell_type": "code",
   "execution_count": 28,
   "id": "3d333d5f",
   "metadata": {},
   "outputs": [
    {
     "data": {
      "text/plain": [
       "(Rep ID  Calls\n",
       " Amanda  1        23\n",
       " Andy    1        23\n",
       " Brent   1        37\n",
       " Cam     1        24\n",
       " Duke    1        29\n",
       " Joe     1        26\n",
       " Lilly   1        30\n",
       " Todd    1        29\n",
       " Xander  1        24\n",
       " Name: Calls, dtype: int64,\n",
       " Rep ID  Calls\n",
       " Alice   1        20\n",
       " Eric    1        35\n",
       " George  1        29\n",
       " Helga   1        31\n",
       " Josh    1        26\n",
       " Karl    1        28\n",
       " Kate    1        29\n",
       " Randy   1        33\n",
       " Sandy   1        32\n",
       " Sharon  1        25\n",
       " Susan   1        26\n",
       " Name: Calls, dtype: int64)"
      ]
     },
     "execution_count": 28,
     "metadata": {},
     "output_type": "execute_result"
    }
   ],
   "source": [
    "north_df.groupby(\"Rep ID\")[\"Calls\"].value_counts(), south_df.groupby(\"Rep ID\")[\"Calls\"].value_counts()"
   ]
  },
  {
   "cell_type": "code",
   "execution_count": 35,
   "id": "2759a2ee",
   "metadata": {},
   "outputs": [
    {
     "data": {
      "text/plain": [
       "2.857142857142857"
      ]
     },
     "execution_count": 35,
     "metadata": {},
     "output_type": "execute_result"
    }
   ],
   "source": [
    "#Average abandonment rate\n",
    "x = north_df[\"Abandoned\"].mean()\n",
    "x\n",
    "XPercent = x * 100\n",
    "XPercent"
   ]
  },
  {
   "cell_type": "code",
   "execution_count": 36,
   "id": "718def92",
   "metadata": {},
   "outputs": [
    {
     "data": {
      "text/plain": [
       "1.2738853503184715"
      ]
     },
     "execution_count": 36,
     "metadata": {},
     "output_type": "execute_result"
    }
   ],
   "source": [
    "y = south_df[\"Abandoned\"].mean()\n",
    "y\n",
    "YPercent = y * 100\n",
    "YPercent"
   ]
  },
  {
   "cell_type": "code",
   "execution_count": 54,
   "id": "48fcff17",
   "metadata": {},
   "outputs": [
    {
     "data": {
      "text/plain": [
       "1.9677996422182469"
      ]
     },
     "execution_count": 54,
     "metadata": {},
     "output_type": "execute_result"
    }
   ],
   "source": [
    "#Average abandonment rate for entire company:\n",
    "z = Combineddf[\"Abandoned\"].mean()\n",
    "z\n",
    "z * 100"
   ]
  },
  {
   "cell_type": "code",
   "execution_count": 35,
   "id": "7fe86ef5",
   "metadata": {},
   "outputs": [
    {
     "data": {
      "text/plain": [
       "4.0    20\n",
       "5.0    17\n",
       "1.0    17\n",
       "2.0    16\n",
       "3.0    12\n",
       "Name: Incoming Wait Time, dtype: int64"
      ]
     },
     "execution_count": 35,
     "metadata": {},
     "output_type": "execute_result"
    }
   ],
   "source": [
    "north_df[\"Incoming Wait Time\"].value_counts() #245\n"
   ]
  },
  {
   "cell_type": "code",
   "execution_count": 36,
   "id": "562f2a77",
   "metadata": {},
   "outputs": [
    {
     "data": {
      "text/plain": [
       "6.530612244897959"
      ]
     },
     "execution_count": 36,
     "metadata": {},
     "output_type": "execute_result"
    }
   ],
   "source": [
    "16 / 245 * 100"
   ]
  },
  {
   "cell_type": "code",
   "execution_count": 37,
   "id": "88e75f14",
   "metadata": {},
   "outputs": [
    {
     "data": {
      "text/plain": [
       "(4.0    30\n",
       " 3.0    29\n",
       " 2.0    28\n",
       " 1.0    20\n",
       " 5.0    19\n",
       " Name: Incoming Wait Time, dtype: int64,)"
      ]
     },
     "execution_count": 37,
     "metadata": {},
     "output_type": "execute_result"
    }
   ],
   "source": [
    "south_df[\"Incoming Wait Time\"].value_counts()"
   ]
  },
  {
   "cell_type": "code",
   "execution_count": 38,
   "id": "a4140a3d",
   "metadata": {},
   "outputs": [
    {
     "data": {
      "text/plain": [
       "8.9171974522293"
      ]
     },
     "execution_count": 38,
     "metadata": {},
     "output_type": "execute_result"
    }
   ],
   "source": [
    "28 / 314 * 100"
   ]
  },
  {
   "cell_type": "code",
   "execution_count": 49,
   "id": "e4940d92",
   "metadata": {},
   "outputs": [
    {
     "data": {
      "text/plain": [
       "(4.0    50\n",
       " 2.0    44\n",
       " 3.0    41\n",
       " 1.0    37\n",
       " 5.0    36\n",
       " Name: Incoming Wait Time, dtype: int64,)"
      ]
     },
     "execution_count": 49,
     "metadata": {},
     "output_type": "execute_result"
    }
   ],
   "source": [
    "Combineddf[\"Incoming Wait Time\"].value_counts()"
   ]
  },
  {
   "cell_type": "code",
   "execution_count": 41,
   "id": "6ef44633",
   "metadata": {},
   "outputs": [
    {
     "data": {
      "text/html": [
       "<div>\n",
       "<style scoped>\n",
       "    .dataframe tbody tr th:only-of-type {\n",
       "        vertical-align: middle;\n",
       "    }\n",
       "\n",
       "    .dataframe tbody tr th {\n",
       "        vertical-align: top;\n",
       "    }\n",
       "\n",
       "    .dataframe thead th {\n",
       "        text-align: right;\n",
       "    }\n",
       "</style>\n",
       "<table border=\"1\" class=\"dataframe\">\n",
       "  <thead>\n",
       "    <tr style=\"text-align: right;\">\n",
       "      <th></th>\n",
       "      <th>Incoming Wait Time</th>\n",
       "      <th>Calls</th>\n",
       "    </tr>\n",
       "    <tr>\n",
       "      <th>Branch</th>\n",
       "      <th></th>\n",
       "      <th></th>\n",
       "    </tr>\n",
       "  </thead>\n",
       "  <tbody>\n",
       "    <tr>\n",
       "      <th>North</th>\n",
       "      <td>49.0</td>\n",
       "      <td>33</td>\n",
       "    </tr>\n",
       "    <tr>\n",
       "      <th>South</th>\n",
       "      <td>76.0</td>\n",
       "      <td>48</td>\n",
       "    </tr>\n",
       "  </tbody>\n",
       "</table>\n",
       "</div>"
      ],
      "text/plain": [
       "        Incoming Wait Time  Calls\n",
       "Branch                           \n",
       "North                 49.0     33\n",
       "South                 76.0     48"
      ]
     },
     "execution_count": 41,
     "metadata": {},
     "output_type": "execute_result"
    }
   ],
   "source": [
    "#Calls answered within 2 seconds to meet KPI.\n",
    "ideal_time_frame = Combineddf[Combineddf['Incoming Wait Time'] <= 2.0]\n",
    "ideal_time_frame\n",
    "\n",
    "#service_level = ('Calls'/'Incoming Wait Time')*100\n",
    "Service_level = ideal_time_frame[['Branch', 'Incoming Wait Time','Calls']].groupby('Branch').sum()\n",
    "Service_level\n"
   ]
  },
  {
   "cell_type": "code",
   "execution_count": 64,
   "id": "485fa89c",
   "metadata": {},
   "outputs": [
    {
     "data": {
      "text/plain": [
       "67.3469387755102"
      ]
     },
     "execution_count": 64,
     "metadata": {},
     "output_type": "execute_result"
    }
   ],
   "source": [
    "Ideal_KPI_N = (33 / 49)*100\n",
    "Ideal_KPI_N"
   ]
  },
  {
   "cell_type": "code",
   "execution_count": 65,
   "id": "a659dda3",
   "metadata": {},
   "outputs": [
    {
     "data": {
      "text/plain": [
       "63.1578947368421"
      ]
     },
     "execution_count": 65,
     "metadata": {},
     "output_type": "execute_result"
    }
   ],
   "source": [
    "Ideal_KPI_S = (48 / 76) * 100\n",
    "Ideal_KPI_S"
   ]
  },
  {
   "cell_type": "code",
   "execution_count": 66,
   "id": "99866f65",
   "metadata": {},
   "outputs": [
    {
     "data": {
      "text/plain": [
       "64.8"
      ]
     },
     "execution_count": 66,
     "metadata": {},
     "output_type": "execute_result"
    }
   ],
   "source": [
    "Ideal_KPI = (81 / 125) * 100\n",
    "Ideal_KPI"
   ]
  },
  {
   "cell_type": "code",
   "execution_count": 55,
   "id": "23bf64c5",
   "metadata": {},
   "outputs": [
    {
     "data": {
      "text/html": [
       "<div>\n",
       "<style scoped>\n",
       "    .dataframe tbody tr th:only-of-type {\n",
       "        vertical-align: middle;\n",
       "    }\n",
       "\n",
       "    .dataframe tbody tr th {\n",
       "        vertical-align: top;\n",
       "    }\n",
       "\n",
       "    .dataframe thead th {\n",
       "        text-align: right;\n",
       "    }\n",
       "</style>\n",
       "<table border=\"1\" class=\"dataframe\">\n",
       "  <thead>\n",
       "    <tr style=\"text-align: right;\">\n",
       "      <th></th>\n",
       "      <th>Incoming Wait Time</th>\n",
       "    </tr>\n",
       "    <tr>\n",
       "      <th>Branch</th>\n",
       "      <th></th>\n",
       "    </tr>\n",
       "  </thead>\n",
       "  <tbody>\n",
       "    <tr>\n",
       "      <th>North</th>\n",
       "      <td>3.04878</td>\n",
       "    </tr>\n",
       "    <tr>\n",
       "      <th>South</th>\n",
       "      <td>3.00000</td>\n",
       "    </tr>\n",
       "  </tbody>\n",
       "</table>\n",
       "</div>"
      ],
      "text/plain": [
       "        Incoming Wait Time\n",
       "Branch                    \n",
       "North              3.04878\n",
       "South              3.00000"
      ]
     },
     "execution_count": 55,
     "metadata": {},
     "output_type": "execute_result"
    }
   ],
   "source": [
    "Avg_answer_speed = Combineddf[[\"Branch\", \"Incoming Wait Time\"]].groupby('Branch').mean()\n",
    "Avg_answer_speed"
   ]
  },
  {
   "cell_type": "code",
   "execution_count": 56,
   "id": "6cc4da8a",
   "metadata": {},
   "outputs": [
    {
     "data": {
      "text/plain": [
       "3.019230769230769"
      ]
     },
     "execution_count": 56,
     "metadata": {},
     "output_type": "execute_result"
    }
   ],
   "source": [
    "Combineddf[\"Incoming Wait Time\"].mean()"
   ]
  },
  {
   "cell_type": "markdown",
   "id": "7719da42",
   "metadata": {},
   "source": [
    "### Data Manipulation Results\n",
    "\n",
    "1. Group by Rep ID and sum the resulting structure. Sort by calls to determine which rep in each branch has the highest number of calls.\n",
    "2. The average call abandonment rate is a KPI when it comes to determining call center efficiency. As you may recall, abandoned calls are calls where the customer hangs up due to long call times. What is the average call abandonment rate for each branch and the whole company? Do any of these fall out of the optimal range of 2-5%?\n",
    "3. Service level is another KPI when it comes to measuring call center efficiency. Service level is the percentage of calls answered within a specific number of seconds. In the case of your employer, their ideal time frame is 2 seconds. What is the percentage of calls answered within 2 seconds for each company and the entire company?\n",
    "4. For each branch and the entire company, what is the average speed of answer?"
   ]
  },
  {
   "cell_type": "code",
   "execution_count": 67,
   "id": "9027060e",
   "metadata": {},
   "outputs": [],
   "source": [
    "#1. North: Brent at 37, South: Eric at 35\n",
    "#2. North: 2.86%, South: 1.27%, Entire Co.: 1.97. Yes, the North branch.\n",
    "#3. I re-did this one to get North: 67%, South: 63%, Entire Company: 65%\n",
    "#4. North: 3.05 seconds, South: 3.0, Entire Co.: 3.02"
   ]
  },
  {
   "cell_type": "markdown",
   "id": "d816d6a2",
   "metadata": {},
   "source": [
    "## Visualization\n",
    "\n",
    "Create a visualization for each of the following questions. Some of the code to handle aggregating and storing data may be written for you. For each visualization, you choose the chart style that you feel suits the situation best. Make note of the chart style you chose and why.\n",
    "\n",
    "1. What is the average abandonment rate per queue?\n",
    "2. What is the service level and average speed of answer per each rep?\n",
    "3. For each type of call purpose, how many calls are outgoing vs. incoming?"
   ]
  },
  {
   "cell_type": "code",
   "execution_count": 90,
   "id": "e0c6f4e5",
   "metadata": {},
   "outputs": [
    {
     "data": {
      "text/plain": [
       "Text(0, 0.5, 'Rate')"
      ]
     },
     "execution_count": 90,
     "metadata": {},
     "output_type": "execute_result"
    },
    {
     "data": {
      "image/png": "[encoded data removed]",
      "text/plain": [
       "<Figure size 432x288 with 1 Axes>"
      ]
     },
     "metadata": {},
     "output_type": "display_data"
    }
   ],
   "source": [
    "# Create visualization 1 here\n",
    "# The dictionary abandonment_rates has the data you need.\n",
    "\n",
    "abandonment_rates = {}\n",
    "queues = [\"A\", \"B\", \"C\", \"D\"]\n",
    "queue_dict = Combineddf.groupby(\"Queue\").agg(\"sum\")\n",
    "for i in range(4):\n",
    "    abandonment_rates[queues[i]] = queue_dict[\"Abandoned\"][i] / queue_dict[\"Calls\"][i] \n",
    "    \n",
    "    \n",
    "a_df = pd.DataFrame.from_dict(abandonment_rates, orient='index')\n",
    "a_df.rename(columns = {0:'Abandonment Rate'}, inplace = True)\n",
    "\n",
    "fig1 = a_df.plot(kind = 'bar', legend = False, color = 'pink')\n",
    "plt.title('Avg Abandonment Rate by Queue',color = 'black')\n",
    "plt.xticks(color = 'black')\n",
    "plt.yticks(color = 'black')\n",
    "plt.xlabel('Queue',color = 'black')\n",
    "plt.ylabel('Rate',color = 'black') "
   ]
  },
  {
   "cell_type": "code",
   "execution_count": 129,
   "id": "7fdb3bdd",
   "metadata": {},
   "outputs": [
    {
     "data": {
      "image/png": "[encoded data removed]",
      "text/plain": [
       "<Figure size 432x288 with 2 Axes>"
      ]
     },
     "metadata": {},
     "output_type": "display_data"
    }
   ],
   "source": [
    "# Create visualization 2 here\n",
    "# north_plt contains the data you need for the average speed of answer of each rep\n",
    "\n",
    "north_plt = north_df.groupby(\"Rep ID\")[\"Incoming Wait Time\"].mean().to_frame().reset_index()\n",
    "\n",
    "# Finding each Rep's Personal Service Level Percentage.  Basically, Calls within 2 secs / total calls\n",
    "\n",
    "# Table 1: Total Incoming calls less than 2 seconds grouped by Rep\n",
    "quick_calls = north_df[north_df[\"Incoming Wait Time\"] <= 2.0]\n",
    "quick_reps = quick_calls[[\"Rep ID\", \"Calls\"]]\n",
    "quick_stats = quick_reps.groupby([\"Rep ID\"]).sum()  # Final Table\n",
    "\n",
    "\n",
    "# Table 2: Total Incoming Calls Only grouped by Rep\n",
    "total_calls_in = north_df[north_df[\"Incoming or Outgoing\"] == \"Incoming\"]\n",
    "rep_calls = total_calls_in[[\"Rep ID\", \"Calls\"]]     \n",
    "total_stats = rep_calls.groupby([\"Rep ID\"]).sum() # Final Table  \n",
    "\n",
    "#  Table 3: Service Level Percentage created via merge\n",
    "service_level = pd.merge(quick_stats, total_stats, on=\"Rep ID\")\n",
    "\n",
    "# Create Percentage Column in Table 3\n",
    "service_level[\"Service Level %\"] = service_level[\"Calls_x\"]/service_level[\"Calls_y\"] * 100\n",
    "\n",
    "# Create new table showing both service level and average speed of answer of each rep \n",
    "service_speed = pd.merge(service_level, north_plt, on=\"Rep ID\")\n",
    "\n",
    "\n",
    "fig,ax = plt.subplots()\n",
    "ax.plot(service_speed['Rep ID'], service_speed['Service Level %'], color=\"purple\", marker=\"o\")\n",
    "ax.set_xlabel('Rep ID', fontsize=14)\n",
    "ax.set_ylabel('Service Level', color=\"Black\", fontsize=14)\n",
    "\n",
    "ax2 = ax.twinx()\n",
    "ax2.plot(service_speed['Rep ID'], service_speed['Incoming Wait Time'],color=\"green\",marker=\"o\")\n",
    "ax2.set_ylabel('Avg seconds to answer', color=\"black\", fontsize=14)\n",
    "\n",
    "plt.show()\n"
   ]
  },
  {
   "cell_type": "code",
   "execution_count": 132,
   "id": "ee11a47f",
   "metadata": {},
   "outputs": [
    {
     "data": {
      "text/plain": [
       "array([[<AxesSubplot:title={'center':'Calls'}>]], dtype=object)"
      ]
     },
     "execution_count": 132,
     "metadata": {},
     "output_type": "execute_result"
    },
    {
     "data": {
      "image/png": "[encoded data removed]",
      "text/plain": [
       "<Figure size 432x288 with 1 Axes>"
      ]
     },
     "metadata": {},
     "output_type": "display_data"
    }
   ],
   "source": [
    "# Finding each Rep's Personal Service Level Percentage.  Basically, Calls within 2 secs / total calls\n",
    "# Table 1: Total Incoming calls less than 2 seconds grouped by Rep\n",
    "quick_calls = north_df[north_df[\"Incoming Wait Time\"] <= 2.0]\n",
    "quick_reps = quick_calls[[\"Rep ID\", \"Calls\"]]\n",
    "quick_stats = quick_reps.groupby([\"Rep ID\"]).sum()  # Final Table\n",
    "\n",
    "quick_stats.hist(bins=100, color = 'lightgreen')"
   ]
  },
  {
   "cell_type": "code",
   "execution_count": 100,
   "id": "a280af3f",
   "metadata": {},
   "outputs": [
    {
     "data": {
      "text/plain": [
       "<AxesSubplot:ylabel='Rep ID'>"
      ]
     },
     "execution_count": 100,
     "metadata": {},
     "output_type": "execute_result"
    },
    {
     "data": {
      "image/png": "[encoded data removed]",
      "text/plain": [
       "<Figure size 432x288 with 2 Axes>"
      ]
     },
     "metadata": {},
     "output_type": "display_data"
    }
   ],
   "source": [
    "# Table 2: Total Incoming Calls Only grouped by Rep\n",
    "total_calls_in = north_df[north_df[\"Incoming or Outgoing\"] == \"Incoming\"]\n",
    "rep_calls = total_calls_in[[\"Rep ID\", \"Calls\"]]     \n",
    "total_stats = rep_calls.groupby([\"Rep ID\"]).sum()\n",
    "total_stats\n",
    "\n",
    "cols = total_stats.columns[:30]\n",
    "colors = ['#f20b8c', '#0b82f2']\n",
    "sns.heatmap(total_stats[cols].isnull(), cmap = sns.color_palette(colors))\n",
    "# Final Table  "
   ]
  },
  {
   "cell_type": "code",
   "execution_count": 85,
   "id": "816e535d",
   "metadata": {},
   "outputs": [
    {
     "data": {
      "text/html": [
       "<div>\n",
       "<style scoped>\n",
       "    .dataframe tbody tr th:only-of-type {\n",
       "        vertical-align: middle;\n",
       "    }\n",
       "\n",
       "    .dataframe tbody tr th {\n",
       "        vertical-align: top;\n",
       "    }\n",
       "\n",
       "    .dataframe thead th {\n",
       "        text-align: right;\n",
       "    }\n",
       "</style>\n",
       "<table border=\"1\" class=\"dataframe\">\n",
       "  <thead>\n",
       "    <tr style=\"text-align: right;\">\n",
       "      <th></th>\n",
       "      <th>Calls_x</th>\n",
       "      <th>Calls_y</th>\n",
       "      <th>Service Level %</th>\n",
       "    </tr>\n",
       "    <tr>\n",
       "      <th>Rep ID</th>\n",
       "      <th></th>\n",
       "      <th></th>\n",
       "      <th></th>\n",
       "    </tr>\n",
       "  </thead>\n",
       "  <tbody>\n",
       "    <tr>\n",
       "      <th>Amanda</th>\n",
       "      <td>3</td>\n",
       "      <td>5</td>\n",
       "      <td>60.000000</td>\n",
       "    </tr>\n",
       "    <tr>\n",
       "      <th>Andy</th>\n",
       "      <td>3</td>\n",
       "      <td>10</td>\n",
       "      <td>30.000000</td>\n",
       "    </tr>\n",
       "    <tr>\n",
       "      <th>Brent</th>\n",
       "      <td>6</td>\n",
       "      <td>8</td>\n",
       "      <td>75.000000</td>\n",
       "    </tr>\n",
       "    <tr>\n",
       "      <th>Cam</th>\n",
       "      <td>5</td>\n",
       "      <td>11</td>\n",
       "      <td>45.454545</td>\n",
       "    </tr>\n",
       "    <tr>\n",
       "      <th>Duke</th>\n",
       "      <td>6</td>\n",
       "      <td>14</td>\n",
       "      <td>42.857143</td>\n",
       "    </tr>\n",
       "    <tr>\n",
       "      <th>Joe</th>\n",
       "      <td>2</td>\n",
       "      <td>10</td>\n",
       "      <td>20.000000</td>\n",
       "    </tr>\n",
       "    <tr>\n",
       "      <th>Lilly</th>\n",
       "      <td>4</td>\n",
       "      <td>12</td>\n",
       "      <td>33.333333</td>\n",
       "    </tr>\n",
       "    <tr>\n",
       "      <th>Todd</th>\n",
       "      <td>2</td>\n",
       "      <td>6</td>\n",
       "      <td>33.333333</td>\n",
       "    </tr>\n",
       "    <tr>\n",
       "      <th>Xander</th>\n",
       "      <td>2</td>\n",
       "      <td>6</td>\n",
       "      <td>33.333333</td>\n",
       "    </tr>\n",
       "  </tbody>\n",
       "</table>\n",
       "</div>"
      ],
      "text/plain": [
       "        Calls_x  Calls_y  Service Level %\n",
       "Rep ID                                   \n",
       "Amanda        3        5        60.000000\n",
       "Andy          3       10        30.000000\n",
       "Brent         6        8        75.000000\n",
       "Cam           5       11        45.454545\n",
       "Duke          6       14        42.857143\n",
       "Joe           2       10        20.000000\n",
       "Lilly         4       12        33.333333\n",
       "Todd          2        6        33.333333\n",
       "Xander        2        6        33.333333"
      ]
     },
     "execution_count": 85,
     "metadata": {},
     "output_type": "execute_result"
    }
   ],
   "source": [
    "#  Table 3: Service Level Percentage created via merge\n",
    "service_level = pd.merge(quick_stats, total_stats, on=\"Rep ID\")\n",
    "service_level\n",
    "# Create Percentage Column in Table 3\n",
    "service_level[\"Service Level %\"] = service_level[\"Calls_x\"]/service_level[\"Calls_y\"] * 100\n",
    "service_level"
   ]
  },
  {
   "cell_type": "code",
   "execution_count": 107,
   "id": "d3d77a58",
   "metadata": {},
   "outputs": [
    {
     "data": {
      "text/plain": [
       "<AxesSubplot:xlabel='Call Purpose'>"
      ]
     },
     "execution_count": 107,
     "metadata": {},
     "output_type": "execute_result"
    },
    {
     "data": {
      "image/png": "[encoded data removed]",
      "text/plain": [
       "<Figure size 432x288 with 1 Axes>"
      ]
     },
     "metadata": {},
     "output_type": "display_data"
    }
   ],
   "source": [
    "# Create visualization 3 here\n",
    "# The three dictionaries, complaints, sales_support, and product_support, have the information you need\n",
    "\n",
    "purpose = Combineddf.groupby(\"Call Purpose\")\n",
    "purpose_counts = purpose[\"Incoming or Outgoing\"].value_counts()\n",
    "complaints = purpose_counts[\"Complaint\"].to_dict()\n",
    "sales_support = purpose_counts[\"Sales Support\"].to_dict()\n",
    "product_support = purpose_counts[\"Product Support\"].to_dict()\n",
    "\n",
    "call_purpose = Combineddf.groupby(\"Incoming or Outgoing\")[\"Call Purpose\"].value_counts().unstack(0).plot.bar(color=['purple', 'lightblue'])\n",
    "call_purpose"
   ]
  },
  {
   "cell_type": "markdown",
   "id": "09d471fc",
   "metadata": {},
   "source": [
    "### Visualization Results\n",
    "\n",
    "For each chart you created, explain why you chose the chart style you chose."
   ]
  },
  {
   "cell_type": "markdown",
   "id": "60770519",
   "metadata": {},
   "source": [
    "## Summarize Your Work\n",
    "\n",
    "With what you know now about the two call centers and the entire company, answer the following questions. Note that while this is subjective, you should include relevant data to back up your opinion.\n",
    "\n",
    "1. Using KPIs such as average abandonment rate, service level and average speed of answer, in your opinion, which one of the two branches is operating more efficiently? Why?\n",
    "2. Based on the number of reps in each branch and how quickly the reps are working, in your opinion, which branch would benefit from the extra help?\n",
    "3. Now that you have explored the datasets, is there any data or information that you wish you had in this analysis?"
   ]
  },
  {
   "cell_type": "code",
   "execution_count": 111,
   "id": "61523693",
   "metadata": {},
   "outputs": [],
   "source": [
    "#1. South - Incoming Wait Time and Abandoned Calls are lower.\n",
    "#2. North Branch could use more reps.\n",
    "#3. Years of service might be interesting to determine if seniority was a factor in how quickly the reps worked. "
   ]
  },
  {
   "cell_type": "markdown",
   "id": "76619a15",
   "metadata": {},
   "source": [
    "## Submit Your Work\n",
    "\n",
    "After you have completed your work on the assignment, push your work to your Github repo. Navigate to the repo, copy the link to your assignment and paste the URL in the Canvas assignment's submission box. "
   ]
  },
  {
   "cell_type": "markdown",
   "id": "cc90141d",
   "metadata": {},
   "source": [
    "## Bonus Mission\n",
    "\n",
    "Create a visualization that answers this question:\n",
    "\n",
    "1. For each call purpose, how many calls (incoming and outgoing) take place in each time block?"
   ]
  },
  {
   "cell_type": "code",
   "execution_count": 118,
   "id": "e9d48ce7",
   "metadata": {},
   "outputs": [
    {
     "ename": "KeyError",
     "evalue": "'Incoming or Outgoing'",
     "output_type": "error",
     "traceback": [
      "\u001b[1;31m---------------------------------------------------------------------------\u001b[0m",
      "\u001b[1;31mKeyError\u001b[0m                                  Traceback (most recent call last)",
      "\u001b[1;32m<ipython-input-118-3231fa431ed4>\u001b[0m in \u001b[0;36m<module>\u001b[1;34m\u001b[0m\n\u001b[0;32m      7\u001b[0m \u001b[1;33m\u001b[0m\u001b[0m\n\u001b[0;32m      8\u001b[0m \u001b[1;31m# Use groupby and get_group to select which call purpose to plot:\u001b[0m\u001b[1;33m\u001b[0m\u001b[1;33m\u001b[0m\u001b[1;33m\u001b[0m\u001b[0m\n\u001b[1;32m----> 9\u001b[1;33m \u001b[0mpurpose\u001b[0m\u001b[1;33m.\u001b[0m\u001b[0mget_group\u001b[0m\u001b[1;33m(\u001b[0m\u001b[1;33m(\u001b[0m\u001b[1;34m\"Incoming or Outgoing\"\u001b[0m\u001b[1;33m)\u001b[0m\u001b[1;33m)\u001b[0m\u001b[1;33m\u001b[0m\u001b[1;33m\u001b[0m\u001b[0m\n\u001b[0m\u001b[0;32m     10\u001b[0m \u001b[1;33m\u001b[0m\u001b[0m\n\u001b[0;32m     11\u001b[0m \u001b[1;33m\u001b[0m\u001b[0m\n",
      "\u001b[1;32m~\\anaconda3\\lib\\site-packages\\pandas\\core\\groupby\\groupby.py\u001b[0m in \u001b[0;36mget_group\u001b[1;34m(self, name, obj)\u001b[0m\n\u001b[0;32m    843\u001b[0m         \u001b[0minds\u001b[0m \u001b[1;33m=\u001b[0m \u001b[0mself\u001b[0m\u001b[1;33m.\u001b[0m\u001b[0m_get_index\u001b[0m\u001b[1;33m(\u001b[0m\u001b[0mname\u001b[0m\u001b[1;33m)\u001b[0m\u001b[1;33m\u001b[0m\u001b[1;33m\u001b[0m\u001b[0m\n\u001b[0;32m    844\u001b[0m         \u001b[1;32mif\u001b[0m \u001b[1;32mnot\u001b[0m \u001b[0mlen\u001b[0m\u001b[1;33m(\u001b[0m\u001b[0minds\u001b[0m\u001b[1;33m)\u001b[0m\u001b[1;33m:\u001b[0m\u001b[1;33m\u001b[0m\u001b[1;33m\u001b[0m\u001b[0m\n\u001b[1;32m--> 845\u001b[1;33m             \u001b[1;32mraise\u001b[0m \u001b[0mKeyError\u001b[0m\u001b[1;33m(\u001b[0m\u001b[0mname\u001b[0m\u001b[1;33m)\u001b[0m\u001b[1;33m\u001b[0m\u001b[1;33m\u001b[0m\u001b[0m\n\u001b[0m\u001b[0;32m    846\u001b[0m \u001b[1;33m\u001b[0m\u001b[0m\n\u001b[0;32m    847\u001b[0m         \u001b[1;32mreturn\u001b[0m \u001b[0mobj\u001b[0m\u001b[1;33m.\u001b[0m\u001b[0m_take_with_is_copy\u001b[0m\u001b[1;33m(\u001b[0m\u001b[0minds\u001b[0m\u001b[1;33m,\u001b[0m \u001b[0maxis\u001b[0m\u001b[1;33m=\u001b[0m\u001b[0mself\u001b[0m\u001b[1;33m.\u001b[0m\u001b[0maxis\u001b[0m\u001b[1;33m)\u001b[0m\u001b[1;33m\u001b[0m\u001b[1;33m\u001b[0m\u001b[0m\n",
      "\u001b[1;31mKeyError\u001b[0m: 'Incoming or Outgoing'"
     ]
    }
   ],
   "source": [
    "# Create your visualization here!\n",
    "call_times = Combineddf[[\"Time Block\", \"Call Purpose\", \"Incoming or Outgoing\", \"Calls\"]]\n",
    "call_times\n",
    "\n",
    "# Use groupby to plot based on time blocks:\n",
    "purpose = Combineddf.groupby(\"Call Purpose\")\n",
    "\n",
    "# Use groupby and get_group to select which call purpose to plot:\n",
    "purpose.get_group((\"Incoming or Outgoing\")) \n",
    "\n",
    "purpose_counts = purpose[\"Incoming or Outgoing\"].value_counts()\n",
    "complaints = purpose_counts[\"Complaint\"].to_dict()\n",
    "sales_support = purpose_counts[\"Sales Support\"].to_dict()\n",
    "product_support = purpose_counts[\"Product Support\"].to_dict()\n",
    "\n",
    "call_purpose = Combineddf.groupby(\"Incoming or Outgoing\")[\"Call Purpose\"].value_counts().unstack(0).plot.bar(color=['brown', 'green'])\n",
    "call_purpose"
   ]
  },
  {
   "cell_type": "code",
   "execution_count": null,
   "id": "3e976cb4",
   "metadata": {},
   "outputs": [],
   "source": []
  }
 ],
 "metadata": {
  "kernelspec": {
   "display_name": "Python 3",
   "language": "python",
   "name": "python3"
  },
  "language_info": {
   "codemirror_mode": {
    "name": "ipython",
    "version": 3
   },
   "file_extension": ".py",
   "mimetype": "text/x-python",
   "name": "python",
   "nbconvert_exporter": "python",
   "pygments_lexer": "ipython3",
   "version": "3.8.8"
  }
 },
 "nbformat": 4,
 "nbformat_minor": 5
}
